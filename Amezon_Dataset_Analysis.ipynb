{
  "cells": [
    {
      "cell_type": "markdown",
      "id": "634d9ca7-500f-4792-a751-d2e806fef751",
      "metadata": {
        "id": "634d9ca7-500f-4792-a751-d2e806fef751"
      },
      "source": [
        "[link text](https://)**To Import Required Libraries**"
      ]
    },
    {
      "cell_type": "markdown",
      "source": [
        "**Amazon Sales Dataset Analysis** *italicized text*\n",
        "----------------"
      ],
      "metadata": {
        "id": "IDPpQZVV9EEC"
      },
      "id": "IDPpQZVV9EEC"
    },
    {
      "cell_type": "code",
      "execution_count": null,
      "id": "a5609ba5-5eef-4da1-a490-aea1df035c9f",
      "metadata": {
        "id": "a5609ba5-5eef-4da1-a490-aea1df035c9f"
      },
      "outputs": [],
      "source": [
        "import pandas as pd"
      ]
    },
    {
      "cell_type": "code",
      "execution_count": null,
      "id": "251d3873-69fd-4fee-8787-205fa2d284eb",
      "metadata": {
        "id": "251d3873-69fd-4fee-8787-205fa2d284eb"
      },
      "outputs": [],
      "source": [
        "import matplotlib.pyplot as plt"
      ]
    },
    {
      "cell_type": "code",
      "execution_count": null,
      "id": "e2e870c5-60a1-4b97-a0e2-723566a607be",
      "metadata": {
        "id": "e2e870c5-60a1-4b97-a0e2-723566a607be"
      },
      "outputs": [],
      "source": [
        "import numpy as np"
      ]
    },
    {
      "cell_type": "code",
      "execution_count": null,
      "id": "15d53594-6542-41ab-8a4d-ade0df3c24d1",
      "metadata": {
        "id": "15d53594-6542-41ab-8a4d-ade0df3c24d1"
      },
      "outputs": [],
      "source": [
        "import seaborn as sb"
      ]
    },
    {
      "cell_type": "code",
      "execution_count": null,
      "id": "338c6fbd-71e8-4a04-8e23-0980ce6c4424",
      "metadata": {
        "id": "338c6fbd-71e8-4a04-8e23-0980ce6c4424"
      },
      "outputs": [],
      "source": [
        "from textblob import TextBlob"
      ]
    },
    {
      "cell_type": "markdown",
      "id": "16ede4d6-4ab6-4bd4-ae50-033fb1e703f8",
      "metadata": {
        "id": "16ede4d6-4ab6-4bd4-ae50-033fb1e703f8"
      },
      "source": [
        "**To Import & Clean The Dataset**"
      ]
    },
    {
      "cell_type": "code",
      "execution_count": null,
      "id": "955d49e8-d17a-4e4f-8748-d9b851f2304e",
      "metadata": {
        "id": "955d49e8-d17a-4e4f-8748-d9b851f2304e"
      },
      "outputs": [],
      "source": [
        "df= pd.read_csv('D:\\\\New folder\\\\Amazon.csv')"
      ]
    },
    {
      "cell_type": "code",
      "execution_count": null,
      "id": "d06a1220-8453-4c3a-a472-64d91410f96c",
      "metadata": {
        "id": "d06a1220-8453-4c3a-a472-64d91410f96c",
        "outputId": "84a2a481-8cf9-4326-aee6-f5f6ed63b19c"
      },
      "outputs": [
        {
          "name": "stdout",
          "output_type": "stream",
          "text": [
            "<class 'pandas.core.frame.DataFrame'>\n",
            "RangeIndex: 1465 entries, 0 to 1464\n",
            "Data columns (total 16 columns):\n",
            " #   Column               Non-Null Count  Dtype \n",
            "---  ------               --------------  ----- \n",
            " 0   product_id           1465 non-null   object\n",
            " 1   product_name         1465 non-null   object\n",
            " 2   category             1465 non-null   object\n",
            " 3   discounted_price     1465 non-null   object\n",
            " 4   actual_price         1465 non-null   object\n",
            " 5   discount_percentage  1465 non-null   object\n",
            " 6   rating               1465 non-null   object\n",
            " 7   rating_count         1463 non-null   object\n",
            " 8   about_product        1465 non-null   object\n",
            " 9   user_id              1465 non-null   object\n",
            " 10  user_name            1465 non-null   object\n",
            " 11  review_id            1465 non-null   object\n",
            " 12  review_title         1465 non-null   object\n",
            " 13  review_content       1465 non-null   object\n",
            " 14  img_link             1465 non-null   object\n",
            " 15  product_link         1465 non-null   object\n",
            "dtypes: object(16)\n",
            "memory usage: 183.3+ KB\n"
          ]
        }
      ],
      "source": [
        "df.info()"
      ]
    },
    {
      "cell_type": "code",
      "execution_count": null,
      "id": "01de4758-cf05-430b-9486-092c77f8d3fe",
      "metadata": {
        "id": "01de4758-cf05-430b-9486-092c77f8d3fe",
        "outputId": "e1b8f98a-1f5a-423a-c449-948959c47d35"
      },
      "outputs": [
        {
          "data": {
            "text/html": [
              "<div>\n",
              "<style scoped>\n",
              "    .dataframe tbody tr th:only-of-type {\n",
              "        vertical-align: middle;\n",
              "    }\n",
              "\n",
              "    .dataframe tbody tr th {\n",
              "        vertical-align: top;\n",
              "    }\n",
              "\n",
              "    .dataframe thead th {\n",
              "        text-align: right;\n",
              "    }\n",
              "</style>\n",
              "<table border=\"1\" class=\"dataframe\">\n",
              "  <thead>\n",
              "    <tr style=\"text-align: right;\">\n",
              "      <th></th>\n",
              "      <th>product_id</th>\n",
              "      <th>product_name</th>\n",
              "      <th>category</th>\n",
              "      <th>discounted_price</th>\n",
              "      <th>actual_price</th>\n",
              "      <th>discount_percentage</th>\n",
              "      <th>rating</th>\n",
              "      <th>rating_count</th>\n",
              "      <th>about_product</th>\n",
              "      <th>user_id</th>\n",
              "      <th>user_name</th>\n",
              "      <th>review_id</th>\n",
              "      <th>review_title</th>\n",
              "      <th>review_content</th>\n",
              "      <th>img_link</th>\n",
              "      <th>product_link</th>\n",
              "    </tr>\n",
              "  </thead>\n",
              "  <tbody>\n",
              "    <tr>\n",
              "      <th>0</th>\n",
              "      <td>B002PD61Y4</td>\n",
              "      <td>D-Link DWA-131 300 Mbps Wireless Nano USB Adap...</td>\n",
              "      <td>Computers&amp;Accessories|NetworkingDevices|Networ...</td>\n",
              "      <td>₹507</td>\n",
              "      <td>₹1,208</td>\n",
              "      <td>58%</td>\n",
              "      <td>4.1</td>\n",
              "      <td>8,131</td>\n",
              "      <td>Connects your computer to a high-speed wireles...</td>\n",
              "      <td>AGA2PZGWMQIRA46VYOTICFE7KCBA,AHI2QJ4CLTCQWACDI...</td>\n",
              "      <td>nilesh,EAGLE,Manoj KNS,Titus P.,Paras singla,a...</td>\n",
              "      <td>R2EJIN3N3L3XKI,R2JMJ8QNG66LV4,R3B46JNPC2T4E7,R...</td>\n",
              "      <td>good tool to use for,Brand is always good,Over...</td>\n",
              "      <td>good quality tool from d linkWiFi signal is go...</td>\n",
              "      <td>https://m.media-amazon.com/images/I/31+NwZ8gb1...</td>\n",
              "      <td>https://www.amazon.in/D-Link-DWA-131-Wireless-...</td>\n",
              "    </tr>\n",
              "    <tr>\n",
              "      <th>1</th>\n",
              "      <td>B002PD61Y4</td>\n",
              "      <td>D-Link DWA-131 300 Mbps Wireless Nano USB Adap...</td>\n",
              "      <td>Computers&amp;Accessories|NetworkingDevices|Networ...</td>\n",
              "      <td>₹507</td>\n",
              "      <td>₹1,208</td>\n",
              "      <td>58%</td>\n",
              "      <td>4.1</td>\n",
              "      <td>8,131</td>\n",
              "      <td>Connects your computer to a high-speed wireles...</td>\n",
              "      <td>AGA2PZGWMQIRA46VYOTICFE7KCBA,AHI2QJ4CLTCQWACDI...</td>\n",
              "      <td>nilesh,EAGLE,Manoj KNS,Titus P.,Paras singla,a...</td>\n",
              "      <td>R2EJIN3N3L3XKI,R2JMJ8QNG66LV4,R3B46JNPC2T4E7,R...</td>\n",
              "      <td>good tool to use for,Brand is always good,Over...</td>\n",
              "      <td>good quality tool from d linkWiFi signal is go...</td>\n",
              "      <td>https://m.media-amazon.com/images/W/WEBP_40237...</td>\n",
              "      <td>https://www.amazon.in/D-Link-DWA-131-Wireless-...</td>\n",
              "    </tr>\n",
              "    <tr>\n",
              "      <th>2</th>\n",
              "      <td>B002SZEOLG</td>\n",
              "      <td>TP-Link Nano USB WiFi Dongle 150Mbps High Gain...</td>\n",
              "      <td>Computers&amp;Accessories|NetworkingDevices|Networ...</td>\n",
              "      <td>₹749</td>\n",
              "      <td>₹1,339</td>\n",
              "      <td>44%</td>\n",
              "      <td>4.2</td>\n",
              "      <td>1,79,692</td>\n",
              "      <td>150 Mbps Wi-Fi —— Exceptional wireless speed u...</td>\n",
              "      <td>AGV3IEFANZCKECFGUM42MRH5FNOA,AEBO7NWCNXKT4AESA...</td>\n",
              "      <td>Azhar JuMan,Anirudh Sood,Hari Krishnan PS,Akas...</td>\n",
              "      <td>R1LW6NWSVTVZ2H,R3VR5WFKUS15C5,R2F6GC79OYWUKQ,R...</td>\n",
              "      <td>Works on linux for me. Get the model with ante...</td>\n",
              "      <td>I use this to connect an old PC to internet. I...</td>\n",
              "      <td>https://m.media-amazon.com/images/I/31Wb+A3VVd...</td>\n",
              "      <td>https://www.amazon.in/TP-Link-TL-WN722N-150Mbp...</td>\n",
              "    </tr>\n",
              "  </tbody>\n",
              "</table>\n",
              "</div>"
            ],
            "text/plain": [
              "   product_id                                       product_name  \\\n",
              "0  B002PD61Y4  D-Link DWA-131 300 Mbps Wireless Nano USB Adap...   \n",
              "1  B002PD61Y4  D-Link DWA-131 300 Mbps Wireless Nano USB Adap...   \n",
              "2  B002SZEOLG  TP-Link Nano USB WiFi Dongle 150Mbps High Gain...   \n",
              "\n",
              "                                            category discounted_price  \\\n",
              "0  Computers&Accessories|NetworkingDevices|Networ...             ₹507   \n",
              "1  Computers&Accessories|NetworkingDevices|Networ...             ₹507   \n",
              "2  Computers&Accessories|NetworkingDevices|Networ...             ₹749   \n",
              "\n",
              "  actual_price discount_percentage rating rating_count  \\\n",
              "0       ₹1,208                 58%    4.1        8,131   \n",
              "1       ₹1,208                 58%    4.1        8,131   \n",
              "2       ₹1,339                 44%    4.2     1,79,692   \n",
              "\n",
              "                                       about_product  \\\n",
              "0  Connects your computer to a high-speed wireles...   \n",
              "1  Connects your computer to a high-speed wireles...   \n",
              "2  150 Mbps Wi-Fi —— Exceptional wireless speed u...   \n",
              "\n",
              "                                             user_id  \\\n",
              "0  AGA2PZGWMQIRA46VYOTICFE7KCBA,AHI2QJ4CLTCQWACDI...   \n",
              "1  AGA2PZGWMQIRA46VYOTICFE7KCBA,AHI2QJ4CLTCQWACDI...   \n",
              "2  AGV3IEFANZCKECFGUM42MRH5FNOA,AEBO7NWCNXKT4AESA...   \n",
              "\n",
              "                                           user_name  \\\n",
              "0  nilesh,EAGLE,Manoj KNS,Titus P.,Paras singla,a...   \n",
              "1  nilesh,EAGLE,Manoj KNS,Titus P.,Paras singla,a...   \n",
              "2  Azhar JuMan,Anirudh Sood,Hari Krishnan PS,Akas...   \n",
              "\n",
              "                                           review_id  \\\n",
              "0  R2EJIN3N3L3XKI,R2JMJ8QNG66LV4,R3B46JNPC2T4E7,R...   \n",
              "1  R2EJIN3N3L3XKI,R2JMJ8QNG66LV4,R3B46JNPC2T4E7,R...   \n",
              "2  R1LW6NWSVTVZ2H,R3VR5WFKUS15C5,R2F6GC79OYWUKQ,R...   \n",
              "\n",
              "                                        review_title  \\\n",
              "0  good tool to use for,Brand is always good,Over...   \n",
              "1  good tool to use for,Brand is always good,Over...   \n",
              "2  Works on linux for me. Get the model with ante...   \n",
              "\n",
              "                                      review_content  \\\n",
              "0  good quality tool from d linkWiFi signal is go...   \n",
              "1  good quality tool from d linkWiFi signal is go...   \n",
              "2  I use this to connect an old PC to internet. I...   \n",
              "\n",
              "                                            img_link  \\\n",
              "0  https://m.media-amazon.com/images/I/31+NwZ8gb1...   \n",
              "1  https://m.media-amazon.com/images/W/WEBP_40237...   \n",
              "2  https://m.media-amazon.com/images/I/31Wb+A3VVd...   \n",
              "\n",
              "                                        product_link  \n",
              "0  https://www.amazon.in/D-Link-DWA-131-Wireless-...  \n",
              "1  https://www.amazon.in/D-Link-DWA-131-Wireless-...  \n",
              "2  https://www.amazon.in/TP-Link-TL-WN722N-150Mbp...  "
            ]
          },
          "execution_count": 9,
          "metadata": {},
          "output_type": "execute_result"
        }
      ],
      "source": [
        "df.head(3)"
      ]
    },
    {
      "cell_type": "code",
      "execution_count": null,
      "id": "dd447af9-b9be-4189-bc1d-3abbd07e5be0",
      "metadata": {
        "id": "dd447af9-b9be-4189-bc1d-3abbd07e5be0"
      },
      "outputs": [],
      "source": [
        "# To remove coma & '₹' from column\n",
        "df['discounted_price'] = df['discounted_price'].str.replace('₹', '').str.replace(',', '')"
      ]
    },
    {
      "cell_type": "code",
      "execution_count": null,
      "id": "12266e2a-0c4d-48b0-90f1-5fb1ff1e9888",
      "metadata": {
        "id": "12266e2a-0c4d-48b0-90f1-5fb1ff1e9888"
      },
      "outputs": [],
      "source": [
        "# To remove coma & '₹' from column\n",
        "df['actual_price'] = df['actual_price'].str.replace('₹', '').str.replace(',', '')"
      ]
    },
    {
      "cell_type": "code",
      "execution_count": null,
      "id": "9385ede0-6fac-4c3b-b4d5-d3249ad09323",
      "metadata": {
        "id": "9385ede0-6fac-4c3b-b4d5-d3249ad09323"
      },
      "outputs": [],
      "source": [
        "# To remove '%' from column\n",
        "df['discount_percentage'] = df['discount_percentage'].str.replace('%', '')"
      ]
    },
    {
      "cell_type": "code",
      "execution_count": null,
      "id": "12249e75-e6c6-4faa-bfdb-0628b9c95647",
      "metadata": {
        "id": "12249e75-e6c6-4faa-bfdb-0628b9c95647"
      },
      "outputs": [],
      "source": [
        "# To remove coma from column\n",
        "df['rating_count'] = df['rating_count'].str.replace(',', '')"
      ]
    },
    {
      "cell_type": "code",
      "execution_count": null,
      "id": "79852bc0-0619-4d16-bf42-ab1f0d145355",
      "metadata": {
        "id": "79852bc0-0619-4d16-bf42-ab1f0d145355"
      },
      "outputs": [],
      "source": [
        "# Convert columns to numeric\n",
        "columns_to_convert = ['discounted_price', 'actual_price', 'discount_percentage', 'rating','rating_count']\n",
        "\n",
        "for column in columns_to_convert:\n",
        "    df[column] = pd.to_numeric(df[column], errors='coerce')"
      ]
    },
    {
      "cell_type": "code",
      "execution_count": null,
      "id": "7f6b0342-80cf-4f53-b715-97f40554fbb8",
      "metadata": {
        "id": "7f6b0342-80cf-4f53-b715-97f40554fbb8",
        "outputId": "0eb980fe-dc2d-4edd-df54-d3a3fbdd934f"
      },
      "outputs": [
        {
          "name": "stdout",
          "output_type": "stream",
          "text": [
            "<class 'pandas.core.frame.DataFrame'>\n",
            "RangeIndex: 1465 entries, 0 to 1464\n",
            "Data columns (total 16 columns):\n",
            " #   Column               Non-Null Count  Dtype  \n",
            "---  ------               --------------  -----  \n",
            " 0   product_id           1465 non-null   object \n",
            " 1   product_name         1465 non-null   object \n",
            " 2   category             1465 non-null   object \n",
            " 3   discounted_price     1465 non-null   float64\n",
            " 4   actual_price         1465 non-null   float64\n",
            " 5   discount_percentage  1465 non-null   int64  \n",
            " 6   rating               1464 non-null   float64\n",
            " 7   rating_count         1463 non-null   float64\n",
            " 8   about_product        1465 non-null   object \n",
            " 9   user_id              1465 non-null   object \n",
            " 10  user_name            1465 non-null   object \n",
            " 11  review_id            1465 non-null   object \n",
            " 12  review_title         1465 non-null   object \n",
            " 13  review_content       1465 non-null   object \n",
            " 14  img_link             1465 non-null   object \n",
            " 15  product_link         1465 non-null   object \n",
            "dtypes: float64(4), int64(1), object(11)\n",
            "memory usage: 183.3+ KB\n"
          ]
        }
      ],
      "source": [
        "df.info()"
      ]
    },
    {
      "cell_type": "code",
      "execution_count": null,
      "id": "0398bfae-ebb2-4647-9f52-5c43ccadde7a",
      "metadata": {
        "id": "0398bfae-ebb2-4647-9f52-5c43ccadde7a",
        "outputId": "c8d5427a-3e80-4aee-c4fb-14043a471d8f"
      },
      "outputs": [
        {
          "data": {
            "text/html": [
              "<div>\n",
              "<style scoped>\n",
              "    .dataframe tbody tr th:only-of-type {\n",
              "        vertical-align: middle;\n",
              "    }\n",
              "\n",
              "    .dataframe tbody tr th {\n",
              "        vertical-align: top;\n",
              "    }\n",
              "\n",
              "    .dataframe thead th {\n",
              "        text-align: right;\n",
              "    }\n",
              "</style>\n",
              "<table border=\"1\" class=\"dataframe\">\n",
              "  <thead>\n",
              "    <tr style=\"text-align: right;\">\n",
              "      <th></th>\n",
              "      <th>discounted_price</th>\n",
              "      <th>actual_price</th>\n",
              "      <th>discount_percentage</th>\n",
              "      <th>rating</th>\n",
              "      <th>rating_count</th>\n",
              "    </tr>\n",
              "  </thead>\n",
              "  <tbody>\n",
              "    <tr>\n",
              "      <th>count</th>\n",
              "      <td>1465.000000</td>\n",
              "      <td>1465.000000</td>\n",
              "      <td>1465.000000</td>\n",
              "      <td>1464.000000</td>\n",
              "      <td>1463.000000</td>\n",
              "    </tr>\n",
              "    <tr>\n",
              "      <th>mean</th>\n",
              "      <td>3125.310874</td>\n",
              "      <td>5444.990635</td>\n",
              "      <td>47.691468</td>\n",
              "      <td>4.096585</td>\n",
              "      <td>18295.541353</td>\n",
              "    </tr>\n",
              "    <tr>\n",
              "      <th>std</th>\n",
              "      <td>6944.304394</td>\n",
              "      <td>10874.826864</td>\n",
              "      <td>21.635905</td>\n",
              "      <td>0.291674</td>\n",
              "      <td>42753.864952</td>\n",
              "    </tr>\n",
              "    <tr>\n",
              "      <th>min</th>\n",
              "      <td>39.000000</td>\n",
              "      <td>39.000000</td>\n",
              "      <td>0.000000</td>\n",
              "      <td>2.000000</td>\n",
              "      <td>2.000000</td>\n",
              "    </tr>\n",
              "    <tr>\n",
              "      <th>25%</th>\n",
              "      <td>325.000000</td>\n",
              "      <td>800.000000</td>\n",
              "      <td>32.000000</td>\n",
              "      <td>4.000000</td>\n",
              "      <td>1186.000000</td>\n",
              "    </tr>\n",
              "    <tr>\n",
              "      <th>50%</th>\n",
              "      <td>799.000000</td>\n",
              "      <td>1650.000000</td>\n",
              "      <td>50.000000</td>\n",
              "      <td>4.100000</td>\n",
              "      <td>5179.000000</td>\n",
              "    </tr>\n",
              "    <tr>\n",
              "      <th>75%</th>\n",
              "      <td>1999.000000</td>\n",
              "      <td>4295.000000</td>\n",
              "      <td>63.000000</td>\n",
              "      <td>4.300000</td>\n",
              "      <td>17336.500000</td>\n",
              "    </tr>\n",
              "    <tr>\n",
              "      <th>max</th>\n",
              "      <td>77990.000000</td>\n",
              "      <td>139900.000000</td>\n",
              "      <td>94.000000</td>\n",
              "      <td>5.000000</td>\n",
              "      <td>426973.000000</td>\n",
              "    </tr>\n",
              "  </tbody>\n",
              "</table>\n",
              "</div>"
            ],
            "text/plain": [
              "       discounted_price   actual_price  discount_percentage       rating  \\\n",
              "count       1465.000000    1465.000000          1465.000000  1464.000000   \n",
              "mean        3125.310874    5444.990635            47.691468     4.096585   \n",
              "std         6944.304394   10874.826864            21.635905     0.291674   \n",
              "min           39.000000      39.000000             0.000000     2.000000   \n",
              "25%          325.000000     800.000000            32.000000     4.000000   \n",
              "50%          799.000000    1650.000000            50.000000     4.100000   \n",
              "75%         1999.000000    4295.000000            63.000000     4.300000   \n",
              "max        77990.000000  139900.000000            94.000000     5.000000   \n",
              "\n",
              "        rating_count  \n",
              "count    1463.000000  \n",
              "mean    18295.541353  \n",
              "std     42753.864952  \n",
              "min         2.000000  \n",
              "25%      1186.000000  \n",
              "50%      5179.000000  \n",
              "75%     17336.500000  \n",
              "max    426973.000000  "
            ]
          },
          "execution_count": 16,
          "metadata": {},
          "output_type": "execute_result"
        }
      ],
      "source": [
        "df.describe()"
      ]
    },
    {
      "cell_type": "markdown",
      "id": "d5384338-74ae-4af6-805e-1e434b5a6623",
      "metadata": {
        "id": "d5384338-74ae-4af6-805e-1e434b5a6623"
      },
      "source": [
        "__________________________"
      ]
    },
    {
      "cell_type": "markdown",
      "id": "96b4916c-0f9f-4921-9706-f99fdf30284b",
      "metadata": {
        "id": "96b4916c-0f9f-4921-9706-f99fdf30284b"
      },
      "source": [
        "**1. How does the discount percentage affect the rating of a product?**\n"
      ]
    },
    {
      "cell_type": "code",
      "execution_count": null,
      "id": "fadb6372-52a2-4424-be0a-dc9016ae627c",
      "metadata": {
        "id": "fadb6372-52a2-4424-be0a-dc9016ae627c",
        "outputId": "3fc74fd7-d03e-48dd-c131-6c7c0b9846ce"
      },
      "outputs": [
        {
          "name": "stderr",
          "output_type": "stream",
          "text": [
            "C:\\Users\\SWAPNIL\\AppData\\Local\\Temp\\ipykernel_6112\\2578838657.py:4: FutureWarning: The default of observed=False is deprecated and will be changed to True in a future version of pandas. Pass observed=False to retain current behavior or observed=True to adopt the future default and silence this warning.\n",
            "  df1=pd.DataFrame(df.groupby(pd.cut(df['discount_percentage'], bins=intervals))['rating'].mean())\n"
          ]
        }
      ],
      "source": [
        "# To create bins as interval\n",
        "intervals = range(0, df['discount_percentage'].max() + 10, 10)\n",
        "# To group by and cut the data in specified intervals\n",
        "df1=pd.DataFrame(df.groupby(pd.cut(df['discount_percentage'], bins=intervals))['rating'].mean())"
      ]
    },
    {
      "cell_type": "code",
      "execution_count": null,
      "id": "564081c4-95e8-48df-a20e-0d921c80df07",
      "metadata": {
        "id": "564081c4-95e8-48df-a20e-0d921c80df07",
        "outputId": "73abc028-99cf-4654-e29d-99b6a391d09f"
      },
      "outputs": [
        {
          "data": {
            "text/html": [
              "<div>\n",
              "<style scoped>\n",
              "    .dataframe tbody tr th:only-of-type {\n",
              "        vertical-align: middle;\n",
              "    }\n",
              "\n",
              "    .dataframe tbody tr th {\n",
              "        vertical-align: top;\n",
              "    }\n",
              "\n",
              "    .dataframe thead th {\n",
              "        text-align: right;\n",
              "    }\n",
              "</style>\n",
              "<table border=\"1\" class=\"dataframe\">\n",
              "  <thead>\n",
              "    <tr style=\"text-align: right;\">\n",
              "      <th></th>\n",
              "      <th>rating</th>\n",
              "    </tr>\n",
              "    <tr>\n",
              "      <th>discount_percentage</th>\n",
              "      <th></th>\n",
              "    </tr>\n",
              "  </thead>\n",
              "  <tbody>\n",
              "    <tr>\n",
              "      <th>(0, 10]</th>\n",
              "      <td>4.160000</td>\n",
              "    </tr>\n",
              "    <tr>\n",
              "      <th>(10, 20]</th>\n",
              "      <td>4.142105</td>\n",
              "    </tr>\n",
              "    <tr>\n",
              "      <th>(20, 30]</th>\n",
              "      <td>4.153659</td>\n",
              "    </tr>\n",
              "    <tr>\n",
              "      <th>(30, 40]</th>\n",
              "      <td>4.100575</td>\n",
              "    </tr>\n",
              "    <tr>\n",
              "      <th>(40, 50]</th>\n",
              "      <td>4.095635</td>\n",
              "    </tr>\n",
              "    <tr>\n",
              "      <th>(50, 60]</th>\n",
              "      <td>4.063281</td>\n",
              "    </tr>\n",
              "    <tr>\n",
              "      <th>(60, 70]</th>\n",
              "      <td>4.110000</td>\n",
              "    </tr>\n",
              "    <tr>\n",
              "      <th>(70, 80]</th>\n",
              "      <td>4.029375</td>\n",
              "    </tr>\n",
              "    <tr>\n",
              "      <th>(80, 90]</th>\n",
              "      <td>3.949057</td>\n",
              "    </tr>\n",
              "    <tr>\n",
              "      <th>(90, 100]</th>\n",
              "      <td>4.216667</td>\n",
              "    </tr>\n",
              "  </tbody>\n",
              "</table>\n",
              "</div>"
            ],
            "text/plain": [
              "                       rating\n",
              "discount_percentage          \n",
              "(0, 10]              4.160000\n",
              "(10, 20]             4.142105\n",
              "(20, 30]             4.153659\n",
              "(30, 40]             4.100575\n",
              "(40, 50]             4.095635\n",
              "(50, 60]             4.063281\n",
              "(60, 70]             4.110000\n",
              "(70, 80]             4.029375\n",
              "(80, 90]             3.949057\n",
              "(90, 100]            4.216667"
            ]
          },
          "execution_count": 18,
          "metadata": {},
          "output_type": "execute_result"
        }
      ],
      "source": [
        "df1"
      ]
    },
    {
      "cell_type": "code",
      "execution_count": null,
      "id": "9af2eb0f-6a90-43f4-babb-bc09877a012f",
      "metadata": {
        "id": "9af2eb0f-6a90-43f4-babb-bc09877a012f",
        "outputId": "dccb333f-bc8d-4d80-bcd0-3b04d487fb95"
      },
      "outputs": [
        {
          "data": {
            "text/plain": [
              "Text(0.5, 1.0, 'Discount_percentage Wise Ratings')"
            ]
          },
          "execution_count": 19,
          "metadata": {},
          "output_type": "execute_result"
        },
        {
          "data": {
            "image/png": "[encoded data removed]",
            "text/plain": [
              "<Figure size 640x480 with 1 Axes>"
            ]
          },
          "metadata": {},
          "output_type": "display_data"
        }
      ],
      "source": [
        "# To Plot the data\n",
        "df1.plot()\n",
        "# Set labels and title\n",
        "plt.xlabel('Average Rating')\n",
        "plt.ylabel('Discount_percentage')\n",
        "plt.title('Discount_percentage Wise Ratings')"
      ]
    },
    {
      "cell_type": "markdown",
      "id": "b0da31a6-058d-49b3-9c74-520ce892a78e",
      "metadata": {
        "id": "b0da31a6-058d-49b3-9c74-520ce892a78e"
      },
      "source": [
        "**Discount Analysis:**\n",
        "\n",
        "The discount percentage does not appear to have a significant impact on the rating of a product, as the ratings remain fairly consistent across different discount percentage ranges."
      ]
    },
    {
      "cell_type": "markdown",
      "id": "1fb52c5b-522d-4590-9e4c-6f6eb7f54bd7",
      "metadata": {
        "id": "1fb52c5b-522d-4590-9e4c-6f6eb7f54bd7"
      },
      "source": [
        "________________________________________________________________________________________________________________________________"
      ]
    },
    {
      "cell_type": "markdown",
      "id": "4958c3cc-a771-4b9c-804a-d9ec5bc4c13d",
      "metadata": {
        "id": "4958c3cc-a771-4b9c-804a-d9ec5bc4c13d"
      },
      "source": [
        "**2. Which category has the highest average rating?**"
      ]
    },
    {
      "cell_type": "code",
      "execution_count": null,
      "id": "ad0bf80e-e32e-417b-83b8-be122a001e64",
      "metadata": {
        "id": "ad0bf80e-e32e-417b-83b8-be122a001e64"
      },
      "outputs": [],
      "source": [
        "# To split catagory & create new column\n",
        "df['New_Cat']= df['category'].str.split('|').str.get(0)"
      ]
    },
    {
      "cell_type": "code",
      "execution_count": null,
      "id": "23941976-47fb-4eaa-956e-351902bd22fe",
      "metadata": {
        "id": "23941976-47fb-4eaa-956e-351902bd22fe"
      },
      "outputs": [],
      "source": [
        "# To Calculate catagory wise average rating\n",
        "df2=pd.DataFrame(df.groupby('New_Cat')['rating'].mean().sort_values(ascending=False))"
      ]
    },
    {
      "cell_type": "code",
      "execution_count": null,
      "id": "b3ab4b3f-ca7a-42f1-b780-b7a43dd7ac3f",
      "metadata": {
        "id": "b3ab4b3f-ca7a-42f1-b780-b7a43dd7ac3f",
        "outputId": "8c42bc6f-4c08-429d-fa1a-bda015e74c06"
      },
      "outputs": [
        {
          "data": {
            "text/html": [
              "<div>\n",
              "<style scoped>\n",
              "    .dataframe tbody tr th:only-of-type {\n",
              "        vertical-align: middle;\n",
              "    }\n",
              "\n",
              "    .dataframe tbody tr th {\n",
              "        vertical-align: top;\n",
              "    }\n",
              "\n",
              "    .dataframe thead th {\n",
              "        text-align: right;\n",
              "    }\n",
              "</style>\n",
              "<table border=\"1\" class=\"dataframe\">\n",
              "  <thead>\n",
              "    <tr style=\"text-align: right;\">\n",
              "      <th></th>\n",
              "      <th>rating</th>\n",
              "    </tr>\n",
              "    <tr>\n",
              "      <th>New_Cat</th>\n",
              "      <th></th>\n",
              "    </tr>\n",
              "  </thead>\n",
              "  <tbody>\n",
              "    <tr>\n",
              "      <th>OfficeProducts</th>\n",
              "      <td>4.309677</td>\n",
              "    </tr>\n",
              "    <tr>\n",
              "      <th>Toys&amp;Games</th>\n",
              "      <td>4.300000</td>\n",
              "    </tr>\n",
              "    <tr>\n",
              "      <th>HomeImprovement</th>\n",
              "      <td>4.250000</td>\n",
              "    </tr>\n",
              "    <tr>\n",
              "      <th>Computers&amp;Accessories</th>\n",
              "      <td>4.154967</td>\n",
              "    </tr>\n",
              "    <tr>\n",
              "      <th>Electronics</th>\n",
              "      <td>4.081749</td>\n",
              "    </tr>\n",
              "    <tr>\n",
              "      <th>Home&amp;Kitchen</th>\n",
              "      <td>4.040716</td>\n",
              "    </tr>\n",
              "    <tr>\n",
              "      <th>Health&amp;PersonalCare</th>\n",
              "      <td>4.000000</td>\n",
              "    </tr>\n",
              "    <tr>\n",
              "      <th>MusicalInstruments</th>\n",
              "      <td>3.900000</td>\n",
              "    </tr>\n",
              "    <tr>\n",
              "      <th>Car&amp;Motorbike</th>\n",
              "      <td>3.800000</td>\n",
              "    </tr>\n",
              "  </tbody>\n",
              "</table>\n",
              "</div>"
            ],
            "text/plain": [
              "                         rating\n",
              "New_Cat                        \n",
              "OfficeProducts         4.309677\n",
              "Toys&Games             4.300000\n",
              "HomeImprovement        4.250000\n",
              "Computers&Accessories  4.154967\n",
              "Electronics            4.081749\n",
              "Home&Kitchen           4.040716\n",
              "Health&PersonalCare    4.000000\n",
              "MusicalInstruments     3.900000\n",
              "Car&Motorbike          3.800000"
            ]
          },
          "execution_count": 23,
          "metadata": {},
          "output_type": "execute_result"
        }
      ],
      "source": [
        "df2"
      ]
    },
    {
      "cell_type": "code",
      "execution_count": null,
      "id": "9f83b69a-42f0-447d-81ff-3d66c13a7c0e",
      "metadata": {
        "id": "9f83b69a-42f0-447d-81ff-3d66c13a7c0e",
        "outputId": "58e9d26d-1ec5-455d-e77e-2a1966dae83d"
      },
      "outputs": [
        {
          "data": {
            "image/png": "[encoded data removed]",
            "text/plain": [
              "<Figure size 640x480 with 1 Axes>"
            ]
          },
          "metadata": {},
          "output_type": "display_data"
        }
      ],
      "source": [
        "# To plot bar chart\n",
        "plt.bar(df2.index, df2['rating'])\n",
        "plt.title('Catagory Wise Average Rating')\n",
        "plt.xlabel('Catagory')\n",
        "plt.ylabel('Average Rating')\n",
        "plt.xticks(rotation=90)\n",
        "plt.show()"
      ]
    },
    {
      "cell_type": "markdown",
      "id": "418b3798-8b9f-4174-8c22-9fc7380e7ba0",
      "metadata": {
        "id": "418b3798-8b9f-4174-8c22-9fc7380e7ba0"
      },
      "source": [
        "**Category Analysis:**\n",
        "\n",
        "The \"OfficeProducts\" category has the highest average rating among all categories, suggesting that products in this category tend to receive better ratings on average."
      ]
    },
    {
      "cell_type": "markdown",
      "id": "0c72d41c-43e5-4b52-af77-06acd5a0853e",
      "metadata": {
        "id": "0c72d41c-43e5-4b52-af77-06acd5a0853e"
      },
      "source": [
        "_______________________________________________________________________________________________________________________"
      ]
    },
    {
      "cell_type": "markdown",
      "id": "b30b4b1b-d023-4886-a3e3-584c436ee5f3",
      "metadata": {
        "id": "b30b4b1b-d023-4886-a3e3-584c436ee5f3"
      },
      "source": [
        "**3. Is there a correlation between the product's price and its rating?**"
      ]
    },
    {
      "cell_type": "code",
      "execution_count": null,
      "id": "e1407ef5-7286-4082-8ae0-4d3ac60dc3b4",
      "metadata": {
        "id": "e1407ef5-7286-4082-8ae0-4d3ac60dc3b4",
        "outputId": "cb6d4513-2be2-4655-ef39-156ac6f560cc"
      },
      "outputs": [
        {
          "name": "stdout",
          "output_type": "stream",
          "text": [
            "Pearson Correlation Coefficient: nan\n"
          ]
        }
      ],
      "source": [
        "# Calculate the Pearson correlation coefficient using numpy\n",
        "pearson_corr = np.corrcoef(df['actual_price'], df['rating'])[0, 1]\n",
        "\n",
        "# Print the Pearson correlation coefficient\n",
        "print(f\"Pearson Correlation Coefficient: {pearson_corr}\")"
      ]
    },
    {
      "cell_type": "code",
      "execution_count": null,
      "id": "b40eb5d4-e993-49f9-9d88-a493ffaf9f82",
      "metadata": {
        "id": "b40eb5d4-e993-49f9-9d88-a493ffaf9f82",
        "outputId": "aef2b273-c68b-4a05-b350-cdd097ec48d8"
      },
      "outputs": [
        {
          "data": {
            "image/png": "[encoded data removed]",
            "text/plain": [
              "<Figure size 640x480 with 1 Axes>"
            ]
          },
          "metadata": {},
          "output_type": "display_data"
        }
      ],
      "source": [
        "# Plot a scatter plot to visualize the relationship\n",
        "plt.scatter(df['actual_price'], df['rating'])\n",
        "plt.xlabel('Actual Price')\n",
        "plt.ylabel('Rating')\n",
        "plt.title('Scatter Plot of Actual Price vs Rating')\n",
        "plt.show()"
      ]
    },
    {
      "cell_type": "markdown",
      "id": "be0c3ed9-046c-48b3-a223-5b552e95ac15",
      "metadata": {
        "id": "be0c3ed9-046c-48b3-a223-5b552e95ac15"
      },
      "source": [
        "**Price Analysis:**\n",
        "\n",
        "There is no clear correlation between a product's price and its rating, indicating that consumers' ratings are not strongly influenced by the product's price."
      ]
    },
    {
      "cell_type": "markdown",
      "id": "601d2d28-aff8-4f30-a450-050e335dded6",
      "metadata": {
        "id": "601d2d28-aff8-4f30-a450-050e335dded6"
      },
      "source": [
        "__________"
      ]
    },
    {
      "cell_type": "markdown",
      "id": "536e0327-c827-488d-9257-b6cb0a399a64",
      "metadata": {
        "id": "536e0327-c827-488d-9257-b6cb0a399a64"
      },
      "source": [
        "**4. What is the most common word in the positive and negative reviews?**"
      ]
    },
    {
      "cell_type": "code",
      "execution_count": null,
      "id": "308d909c-49a7-4ce8-bda7-07c63e1773dd",
      "metadata": {
        "id": "308d909c-49a7-4ce8-bda7-07c63e1773dd"
      },
      "outputs": [],
      "source": [
        "sentiments = []\n",
        "\n",
        "for row in df['review_content']:\n",
        "    blob = TextBlob(str(row))\n",
        "    sentiment = blob.sentiment.polarity\n",
        "    sentiments.append(sentiment)\n",
        "\n",
        "# Create a new column in the DataFrame to store the sentiments\n",
        "df.loc[:, 'sentiments'] = sentiments"
      ]
    },
    {
      "cell_type": "code",
      "execution_count": null,
      "id": "2b554f18-450f-4a40-8bdc-e3ce61648aa3",
      "metadata": {
        "id": "2b554f18-450f-4a40-8bdc-e3ce61648aa3"
      },
      "outputs": [],
      "source": [
        "# Function to analyze sentiment using TextBlob\n",
        "def analyze_sentiment(Num):\n",
        "    # Classify sentiment as positive, negative, or neutral\n",
        "    if Num > 0:\n",
        "        return 'Positive'\n",
        "    elif Num < 0:\n",
        "        return 'Negative'\n",
        "    else:\n",
        "        return 'Neutral'\n",
        "\n",
        "# Apply sentiment analysis to the 'sentiments' column\n",
        "df['sentiment_category'] = df['sentiments'].apply(analyze_sentiment)"
      ]
    },
    {
      "cell_type": "code",
      "execution_count": null,
      "id": "f5e3b6dc-8e83-4b5d-a516-a7336ebb507e",
      "metadata": {
        "id": "f5e3b6dc-8e83-4b5d-a516-a7336ebb507e",
        "outputId": "5308b8c7-feee-4826-a430-58711b247039"
      },
      "outputs": [
        {
          "data": {
            "text/html": [
              "<div>\n",
              "<style scoped>\n",
              "    .dataframe tbody tr th:only-of-type {\n",
              "        vertical-align: middle;\n",
              "    }\n",
              "\n",
              "    .dataframe tbody tr th {\n",
              "        vertical-align: top;\n",
              "    }\n",
              "\n",
              "    .dataframe thead th {\n",
              "        text-align: right;\n",
              "    }\n",
              "</style>\n",
              "<table border=\"1\" class=\"dataframe\">\n",
              "  <thead>\n",
              "    <tr style=\"text-align: right;\">\n",
              "      <th></th>\n",
              "      <th>product_id</th>\n",
              "      <th>product_name</th>\n",
              "      <th>category</th>\n",
              "      <th>discounted_price</th>\n",
              "      <th>actual_price</th>\n",
              "      <th>discount_percentage</th>\n",
              "      <th>rating</th>\n",
              "      <th>rating_count</th>\n",
              "      <th>about_product</th>\n",
              "      <th>user_id</th>\n",
              "      <th>user_name</th>\n",
              "      <th>review_id</th>\n",
              "      <th>review_title</th>\n",
              "      <th>review_content</th>\n",
              "      <th>img_link</th>\n",
              "      <th>product_link</th>\n",
              "      <th>New_Cat</th>\n",
              "      <th>sentiments</th>\n",
              "      <th>sentiment_category</th>\n",
              "    </tr>\n",
              "  </thead>\n",
              "  <tbody>\n",
              "    <tr>\n",
              "      <th>209</th>\n",
              "      <td>B01M5967SY</td>\n",
              "      <td>TIZUM High Speed HDMI Cable Aura -Gold Plated-...</td>\n",
              "      <td>Electronics|HomeTheater,TV&amp;Video|Accessories|C...</td>\n",
              "      <td>379.0</td>\n",
              "      <td>999.0</td>\n",
              "      <td>62</td>\n",
              "      <td>4.2</td>\n",
              "      <td>12153.0</td>\n",
              "      <td>Latest standard HDMI A Male to A Male Cable: S...</td>\n",
              "      <td>AGVUE2NFN2MQEOQ4PR525B2ZI5PQ,AFO4M4BQ2WS7A3LPK...</td>\n",
              "      <td>Yashpreet Singh,Abiram,Aakaash Ramchandani,Ami...</td>\n",
              "      <td>R2DIHMHOPYEASB,R24RHE9B30YXWQ,R3DYXQZQA6PPHM,R...</td>\n",
              "      <td>Cheap product and same is the performance but ...</td>\n",
              "      <td>The signal is too unstable once connect you ne...</td>\n",
              "      <td>https://m.media-amazon.com/images/I/51aZN040TH...</td>\n",
              "      <td>https://www.amazon.in/Tizum-10-2Gbps-Speed-Pla...</td>\n",
              "      <td>Electronics</td>\n",
              "      <td>0.206422</td>\n",
              "      <td>Positive</td>\n",
              "    </tr>\n",
              "    <tr>\n",
              "      <th>1130</th>\n",
              "      <td>B09SDDQQKP</td>\n",
              "      <td>INALSA Vaccum Cleaner Handheld 800W High Power...</td>\n",
              "      <td>Home&amp;Kitchen|Kitchen&amp;HomeAppliances|Vacuum,Cle...</td>\n",
              "      <td>1799.0</td>\n",
              "      <td>3295.0</td>\n",
              "      <td>45</td>\n",
              "      <td>3.8</td>\n",
              "      <td>687.0</td>\n",
              "      <td>POWERFUL CYCLONIC SUCTION: Dura Clean utilizes...</td>\n",
              "      <td>AE4L3MBEACOHT7Y7GGWQ72DUJ6SA,AELHNY42N2WPTZN5R...</td>\n",
              "      <td>prem chand,Avishek Saha Chowdhury,Tanvi Chadha...</td>\n",
              "      <td>RHK81ZNE4PTND,R1APOT5W7NCQ0K,R2TC26RQAISV2N,R2...</td>\n",
              "      <td>Good for now,Worth Buying For Daily Cleaning,V...</td>\n",
              "      <td>Device was sturdy and handy, suction power is ...</td>\n",
              "      <td>https://m.media-amazon.com/images/W/WEBP_40237...</td>\n",
              "      <td>https://www.amazon.in/Handheld-Powerful-Filtra...</td>\n",
              "      <td>Home&amp;Kitchen</td>\n",
              "      <td>0.245814</td>\n",
              "      <td>Positive</td>\n",
              "    </tr>\n",
              "    <tr>\n",
              "      <th>328</th>\n",
              "      <td>B07G3YNLJB</td>\n",
              "      <td>Crucial BX500 240GB 3D NAND SATA 6.35 cm (2.5-...</td>\n",
              "      <td>Computers&amp;Accessories|Components|InternalSolid...</td>\n",
              "      <td>1815.0</td>\n",
              "      <td>3100.0</td>\n",
              "      <td>41</td>\n",
              "      <td>4.5</td>\n",
              "      <td>92925.0</td>\n",
              "      <td>240GB 2.5-inch internal SSD, SATA 6.0Gb/s, wit...</td>\n",
              "      <td>AGHW3JDEF6JIRC4HB43UDMKOFXZQ,AF4N3Q6OEXVBSAHPK...</td>\n",
              "      <td>Shaikh Faisal,SISODIYA NANUBHAI,Aaryan Jagtap,...</td>\n",
              "      <td>R34WAR6NQSVZBI,RGG00MCOD3B6A,R2RO4Z1CBF2G1I,R1...</td>\n",
              "      <td>Absolutely worth the price,Best product on low...</td>\n",
              "      <td>After I changed from my slow 500gb HDD to this...</td>\n",
              "      <td>https://m.media-amazon.com/images/I/31foPNxmws...</td>\n",
              "      <td>https://www.amazon.in/Crucial-BX500-240GB-2-5-...</td>\n",
              "      <td>Computers&amp;Accessories</td>\n",
              "      <td>0.227415</td>\n",
              "      <td>Positive</td>\n",
              "    </tr>\n",
              "    <tr>\n",
              "      <th>517</th>\n",
              "      <td>B07YZG8PPY</td>\n",
              "      <td>TATA SKY HD Connection with 1 month basic pack...</td>\n",
              "      <td>Electronics|HomeTheater,TV&amp;Video|SatelliteEqui...</td>\n",
              "      <td>1249.0</td>\n",
              "      <td>2299.0</td>\n",
              "      <td>46</td>\n",
              "      <td>4.3</td>\n",
              "      <td>7636.0</td>\n",
              "      <td>Enjoy the high definition experience with 1080...</td>\n",
              "      <td>AFYPWMPR6XXQPAOLMGPWOW6HULQA,AFQTWROEABNVTNGTK...</td>\n",
              "      <td>Lokesh bhandari,Ajit Singh,Kottiswaran,Santa S...</td>\n",
              "      <td>R1HC3ZLVI3VC2L,RROY3V4G9AN02,R3DVFUQOK3JXZ7,R3...</td>\n",
              "      <td>Very good product,All items is really good,val...</td>\n",
              "      <td>https://m.media-amazon.com/images/I/61T7yiKCRX...</td>\n",
              "      <td>https://m.media-amazon.com/images/I/31J3pwT7i4...</td>\n",
              "      <td>https://www.amazon.in/TATASKY-Connection-Month...</td>\n",
              "      <td>Electronics</td>\n",
              "      <td>0.186122</td>\n",
              "      <td>Positive</td>\n",
              "    </tr>\n",
              "  </tbody>\n",
              "</table>\n",
              "</div>"
            ],
            "text/plain": [
              "      product_id                                       product_name  \\\n",
              "209   B01M5967SY  TIZUM High Speed HDMI Cable Aura -Gold Plated-...   \n",
              "1130  B09SDDQQKP  INALSA Vaccum Cleaner Handheld 800W High Power...   \n",
              "328   B07G3YNLJB  Crucial BX500 240GB 3D NAND SATA 6.35 cm (2.5-...   \n",
              "517   B07YZG8PPY  TATA SKY HD Connection with 1 month basic pack...   \n",
              "\n",
              "                                               category  discounted_price  \\\n",
              "209   Electronics|HomeTheater,TV&Video|Accessories|C...             379.0   \n",
              "1130  Home&Kitchen|Kitchen&HomeAppliances|Vacuum,Cle...            1799.0   \n",
              "328   Computers&Accessories|Components|InternalSolid...            1815.0   \n",
              "517   Electronics|HomeTheater,TV&Video|SatelliteEqui...            1249.0   \n",
              "\n",
              "      actual_price  discount_percentage  rating  rating_count  \\\n",
              "209          999.0                   62     4.2       12153.0   \n",
              "1130        3295.0                   45     3.8         687.0   \n",
              "328         3100.0                   41     4.5       92925.0   \n",
              "517         2299.0                   46     4.3        7636.0   \n",
              "\n",
              "                                          about_product  \\\n",
              "209   Latest standard HDMI A Male to A Male Cable: S...   \n",
              "1130  POWERFUL CYCLONIC SUCTION: Dura Clean utilizes...   \n",
              "328   240GB 2.5-inch internal SSD, SATA 6.0Gb/s, wit...   \n",
              "517   Enjoy the high definition experience with 1080...   \n",
              "\n",
              "                                                user_id  \\\n",
              "209   AGVUE2NFN2MQEOQ4PR525B2ZI5PQ,AFO4M4BQ2WS7A3LPK...   \n",
              "1130  AE4L3MBEACOHT7Y7GGWQ72DUJ6SA,AELHNY42N2WPTZN5R...   \n",
              "328   AGHW3JDEF6JIRC4HB43UDMKOFXZQ,AF4N3Q6OEXVBSAHPK...   \n",
              "517   AFYPWMPR6XXQPAOLMGPWOW6HULQA,AFQTWROEABNVTNGTK...   \n",
              "\n",
              "                                              user_name  \\\n",
              "209   Yashpreet Singh,Abiram,Aakaash Ramchandani,Ami...   \n",
              "1130  prem chand,Avishek Saha Chowdhury,Tanvi Chadha...   \n",
              "328   Shaikh Faisal,SISODIYA NANUBHAI,Aaryan Jagtap,...   \n",
              "517   Lokesh bhandari,Ajit Singh,Kottiswaran,Santa S...   \n",
              "\n",
              "                                              review_id  \\\n",
              "209   R2DIHMHOPYEASB,R24RHE9B30YXWQ,R3DYXQZQA6PPHM,R...   \n",
              "1130  RHK81ZNE4PTND,R1APOT5W7NCQ0K,R2TC26RQAISV2N,R2...   \n",
              "328   R34WAR6NQSVZBI,RGG00MCOD3B6A,R2RO4Z1CBF2G1I,R1...   \n",
              "517   R1HC3ZLVI3VC2L,RROY3V4G9AN02,R3DVFUQOK3JXZ7,R3...   \n",
              "\n",
              "                                           review_title  \\\n",
              "209   Cheap product and same is the performance but ...   \n",
              "1130  Good for now,Worth Buying For Daily Cleaning,V...   \n",
              "328   Absolutely worth the price,Best product on low...   \n",
              "517   Very good product,All items is really good,val...   \n",
              "\n",
              "                                         review_content  \\\n",
              "209   The signal is too unstable once connect you ne...   \n",
              "1130  Device was sturdy and handy, suction power is ...   \n",
              "328   After I changed from my slow 500gb HDD to this...   \n",
              "517   https://m.media-amazon.com/images/I/61T7yiKCRX...   \n",
              "\n",
              "                                               img_link  \\\n",
              "209   https://m.media-amazon.com/images/I/51aZN040TH...   \n",
              "1130  https://m.media-amazon.com/images/W/WEBP_40237...   \n",
              "328   https://m.media-amazon.com/images/I/31foPNxmws...   \n",
              "517   https://m.media-amazon.com/images/I/31J3pwT7i4...   \n",
              "\n",
              "                                           product_link  \\\n",
              "209   https://www.amazon.in/Tizum-10-2Gbps-Speed-Pla...   \n",
              "1130  https://www.amazon.in/Handheld-Powerful-Filtra...   \n",
              "328   https://www.amazon.in/Crucial-BX500-240GB-2-5-...   \n",
              "517   https://www.amazon.in/TATASKY-Connection-Month...   \n",
              "\n",
              "                    New_Cat  sentiments sentiment_category  \n",
              "209             Electronics    0.206422           Positive  \n",
              "1130           Home&Kitchen    0.245814           Positive  \n",
              "328   Computers&Accessories    0.227415           Positive  \n",
              "517             Electronics    0.186122           Positive  "
            ]
          },
          "execution_count": 31,
          "metadata": {},
          "output_type": "execute_result"
        }
      ],
      "source": [
        "df.sample(4)"
      ]
    },
    {
      "cell_type": "code",
      "execution_count": null,
      "id": "279e4bc9-3768-4df7-a0c9-fb325addf141",
      "metadata": {
        "id": "279e4bc9-3768-4df7-a0c9-fb325addf141"
      },
      "outputs": [],
      "source": [
        "df5=pd.DataFrame(df['sentiment_category'].value_counts())"
      ]
    },
    {
      "cell_type": "code",
      "execution_count": null,
      "id": "366e10b2-158c-4c62-bc2e-5d56ccb1ee88",
      "metadata": {
        "id": "366e10b2-158c-4c62-bc2e-5d56ccb1ee88",
        "outputId": "fd2e284e-c300-4969-9aaf-cd1b38a7d48a"
      },
      "outputs": [
        {
          "data": {
            "text/html": [
              "<div>\n",
              "<style scoped>\n",
              "    .dataframe tbody tr th:only-of-type {\n",
              "        vertical-align: middle;\n",
              "    }\n",
              "\n",
              "    .dataframe tbody tr th {\n",
              "        vertical-align: top;\n",
              "    }\n",
              "\n",
              "    .dataframe thead th {\n",
              "        text-align: right;\n",
              "    }\n",
              "</style>\n",
              "<table border=\"1\" class=\"dataframe\">\n",
              "  <thead>\n",
              "    <tr style=\"text-align: right;\">\n",
              "      <th></th>\n",
              "      <th>count</th>\n",
              "    </tr>\n",
              "    <tr>\n",
              "      <th>sentiment_category</th>\n",
              "      <th></th>\n",
              "    </tr>\n",
              "  </thead>\n",
              "  <tbody>\n",
              "    <tr>\n",
              "      <th>Positive</th>\n",
              "      <td>1438</td>\n",
              "    </tr>\n",
              "    <tr>\n",
              "      <th>Negative</th>\n",
              "      <td>26</td>\n",
              "    </tr>\n",
              "    <tr>\n",
              "      <th>Neutral</th>\n",
              "      <td>1</td>\n",
              "    </tr>\n",
              "  </tbody>\n",
              "</table>\n",
              "</div>"
            ],
            "text/plain": [
              "                    count\n",
              "sentiment_category       \n",
              "Positive             1438\n",
              "Negative               26\n",
              "Neutral                 1"
            ]
          },
          "execution_count": 33,
          "metadata": {},
          "output_type": "execute_result"
        }
      ],
      "source": [
        "df5"
      ]
    },
    {
      "cell_type": "code",
      "execution_count": null,
      "id": "5c28ffb1-d1be-4190-8e5c-a73ac1d4d290",
      "metadata": {
        "id": "5c28ffb1-d1be-4190-8e5c-a73ac1d4d290",
        "outputId": "fa400a96-ffc5-4a62-94e3-fd67ca8f716c"
      },
      "outputs": [
        {
          "data": {
            "image/png": "[encoded data removed]",
            "text/plain": [
              "<Figure size 500x500 with 1 Axes>"
            ]
          },
          "metadata": {},
          "output_type": "display_data"
        }
      ],
      "source": [
        "# Plotting the pie chart\n",
        "plt.figure(figsize=(5,5))\n",
        "plt.pie(df5['count'],labels=df5.index,autopct='%1.2f%%',textprops={'fontsize':10})\n",
        "# Add a title\n",
        "plt.title('Sentiments Distribution')\n",
        "\n",
        "# Adjust layout to avoid label overlap\n",
        "plt.tight_layout(pad =2)\n",
        "\n",
        "# Display the plot\n",
        "plt.show()"
      ]
    },
    {
      "cell_type": "markdown",
      "id": "f6fe4bee-daf9-4c12-9a1c-e3bcef9e2660",
      "metadata": {
        "id": "f6fe4bee-daf9-4c12-9a1c-e3bcef9e2660"
      },
      "source": [
        "**Review Analysis:**\n",
        "\n",
        "The majority of reviews in the dataset are positive, with approximately 98% of reviews falling into this category. This suggests that customers generally have a positive sentiment when reviewing products."
      ]
    },
    {
      "cell_type": "markdown",
      "id": "515b1d39-56c8-4473-bf89-e79fe49af45f",
      "metadata": {
        "id": "515b1d39-56c8-4473-bf89-e79fe49af45f"
      },
      "source": [
        "________"
      ]
    },
    {
      "cell_type": "markdown",
      "id": "30b1b1d7-37c2-4f06-ac6e-21b231290d96",
      "metadata": {
        "id": "30b1b1d7-37c2-4f06-ac6e-21b231290d96"
      },
      "source": [
        "**5. What is the distribution of ratings across all products?**"
      ]
    },
    {
      "cell_type": "code",
      "execution_count": null,
      "id": "11c043bb-6fa2-4aee-8959-9f90f5adb177",
      "metadata": {
        "id": "11c043bb-6fa2-4aee-8959-9f90f5adb177",
        "outputId": "50560a28-36f9-4080-8f5b-e621f8115fd7"
      },
      "outputs": [
        {
          "data": {
            "image/png": "[encoded data removed]",
            "text/plain": [
              "<Figure size 640x480 with 1 Axes>"
            ]
          },
          "metadata": {},
          "output_type": "display_data"
        }
      ],
      "source": [
        "# Plot a histogram of the 'rating' column\n",
        "plt.hist(df['rating'], bins=7, edgecolor='black')\n",
        "plt.xlabel('Rating')\n",
        "plt.ylabel('Frequency')\n",
        "plt.title('Histogram of Ratings')\n",
        "plt.grid(axis='y', alpha=0.5)\n",
        "plt.show()"
      ]
    },
    {
      "cell_type": "markdown",
      "id": "fdf769b9-ff54-40c3-8827-b9ba4133f6ce",
      "metadata": {
        "id": "fdf769b9-ff54-40c3-8827-b9ba4133f6ce"
      },
      "source": [
        "**Rating Analysis:**\n",
        "\n",
        "The distribution of ratings across all products indicates that most products receive ratings between 4 to 4.5, suggesting that customers tend to provide moderately positive feedback."
      ]
    },
    {
      "cell_type": "markdown",
      "id": "201a87e7-8a2f-4b64-b30c-9d3b17fdf779",
      "metadata": {
        "id": "201a87e7-8a2f-4b64-b30c-9d3b17fdf779"
      },
      "source": [
        "____"
      ]
    },
    {
      "cell_type": "markdown",
      "id": "c8e6fbbc-5052-4f35-90ac-10a3bcde19c4",
      "metadata": {
        "id": "c8e6fbbc-5052-4f35-90ac-10a3bcde19c4"
      },
      "source": [
        "**6. Which product has the highest number of reviews and what is its rating?**"
      ]
    },
    {
      "cell_type": "code",
      "execution_count": null,
      "id": "3d69dd3a-dbb6-41c0-bcd0-f6718b503813",
      "metadata": {
        "id": "3d69dd3a-dbb6-41c0-bcd0-f6718b503813"
      },
      "outputs": [],
      "source": [
        "# To groupby product_id & rating with count of review_id\n",
        "df6 = df.groupby('product_id').agg({'rating': 'first', 'review_id': 'count'}).sort_values(by='review_id', ascending=False)"
      ]
    },
    {
      "cell_type": "code",
      "execution_count": null,
      "id": "2082f391-0adb-4a4a-9a54-1c5ea08903e0",
      "metadata": {
        "id": "2082f391-0adb-4a4a-9a54-1c5ea08903e0",
        "outputId": "31c82ff2-dae8-4e58-8e45-378a9246fd86"
      },
      "outputs": [
        {
          "data": {
            "text/html": [
              "<div>\n",
              "<style scoped>\n",
              "    .dataframe tbody tr th:only-of-type {\n",
              "        vertical-align: middle;\n",
              "    }\n",
              "\n",
              "    .dataframe tbody tr th {\n",
              "        vertical-align: top;\n",
              "    }\n",
              "\n",
              "    .dataframe thead th {\n",
              "        text-align: right;\n",
              "    }\n",
              "</style>\n",
              "<table border=\"1\" class=\"dataframe\">\n",
              "  <thead>\n",
              "    <tr style=\"text-align: right;\">\n",
              "      <th></th>\n",
              "      <th>rating</th>\n",
              "      <th>review_id</th>\n",
              "    </tr>\n",
              "    <tr>\n",
              "      <th>product_id</th>\n",
              "      <th></th>\n",
              "      <th></th>\n",
              "    </tr>\n",
              "  </thead>\n",
              "  <tbody>\n",
              "    <tr>\n",
              "      <th>B09C6HXFC1</th>\n",
              "      <td>4.5</td>\n",
              "      <td>3</td>\n",
              "    </tr>\n",
              "    <tr>\n",
              "      <th>B07XLCFSSN</th>\n",
              "      <td>4.4</td>\n",
              "      <td>3</td>\n",
              "    </tr>\n",
              "    <tr>\n",
              "      <th>B083342NKJ</th>\n",
              "      <td>4.4</td>\n",
              "      <td>3</td>\n",
              "    </tr>\n",
              "    <tr>\n",
              "      <th>B09W5XR9RT</th>\n",
              "      <td>4.4</td>\n",
              "      <td>3</td>\n",
              "    </tr>\n",
              "    <tr>\n",
              "      <th>B077Z65HSD</th>\n",
              "      <td>4.3</td>\n",
              "      <td>3</td>\n",
              "    </tr>\n",
              "    <tr>\n",
              "      <th>B08CF3D7QR</th>\n",
              "      <td>4.3</td>\n",
              "      <td>3</td>\n",
              "    </tr>\n",
              "    <tr>\n",
              "      <th>B082T6V3DT</th>\n",
              "      <td>4.3</td>\n",
              "      <td>3</td>\n",
              "    </tr>\n",
              "    <tr>\n",
              "      <th>B08DDRGWTJ</th>\n",
              "      <td>4.3</td>\n",
              "      <td>3</td>\n",
              "    </tr>\n",
              "    <tr>\n",
              "      <th>B01GGKYKQM</th>\n",
              "      <td>4.3</td>\n",
              "      <td>3</td>\n",
              "    </tr>\n",
              "    <tr>\n",
              "      <th>B07JW9H4J1</th>\n",
              "      <td>4.2</td>\n",
              "      <td>3</td>\n",
              "    </tr>\n",
              "  </tbody>\n",
              "</table>\n",
              "</div>"
            ],
            "text/plain": [
              "            rating  review_id\n",
              "product_id                   \n",
              "B09C6HXFC1     4.5          3\n",
              "B07XLCFSSN     4.4          3\n",
              "B083342NKJ     4.4          3\n",
              "B09W5XR9RT     4.4          3\n",
              "B077Z65HSD     4.3          3\n",
              "B08CF3D7QR     4.3          3\n",
              "B082T6V3DT     4.3          3\n",
              "B08DDRGWTJ     4.3          3\n",
              "B01GGKYKQM     4.3          3\n",
              "B07JW9H4J1     4.2          3"
            ]
          },
          "execution_count": 107,
          "metadata": {},
          "output_type": "execute_result"
        }
      ],
      "source": [
        "# To sort highest reviewed products by highest rating\n",
        "df6[df6['review_id'] > 2].sort_values(by='rating', ascending=False).head(10)"
      ]
    },
    {
      "cell_type": "markdown",
      "id": "0c9b34df-9e72-4ac3-962f-c27dbd965326",
      "metadata": {
        "id": "0c9b34df-9e72-4ac3-962f-c27dbd965326"
      },
      "source": [
        "**Product Analysis:**\n",
        "\n",
        "The products with the highest number of reviews (3 reviews) have ratings ranging from 4.2 to 4.5. This suggests that products with more reviews tend to have ratings in the higher range."
      ]
    },
    {
      "cell_type": "markdown",
      "id": "5031061c-70ca-428f-a02e-fd17fdd1880e",
      "metadata": {
        "id": "5031061c-70ca-428f-a02e-fd17fdd1880e"
      },
      "source": [
        "____"
      ]
    },
    {
      "cell_type": "markdown",
      "id": "73f16485-cc8d-4fc6-8565-eec128a41cb0",
      "metadata": {
        "id": "73f16485-cc8d-4fc6-8565-eec128a41cb0"
      },
      "source": [
        "**7. Identify the top 5 users who have given the most reviews?**"
      ]
    },
    {
      "cell_type": "code",
      "execution_count": null,
      "id": "7a555288-d84c-4615-9c5a-216761c35a21",
      "metadata": {
        "id": "7a555288-d84c-4615-9c5a-216761c35a21"
      },
      "outputs": [],
      "source": [
        "# To groupby user_name with user_id count\n",
        "df7=pd.DataFrame(df.groupby('user_name')['user_id'].count().sort_values(ascending=False).head(5))"
      ]
    },
    {
      "cell_type": "code",
      "execution_count": null,
      "id": "5f9a039a-4a7b-4b3d-a041-b7aaf44b8eb8",
      "metadata": {
        "id": "5f9a039a-4a7b-4b3d-a041-b7aaf44b8eb8",
        "outputId": "922cf919-1cc1-4db8-c30d-3baf064d3364"
      },
      "outputs": [
        {
          "data": {
            "text/html": [
              "<div>\n",
              "<style scoped>\n",
              "    .dataframe tbody tr th:only-of-type {\n",
              "        vertical-align: middle;\n",
              "    }\n",
              "\n",
              "    .dataframe tbody tr th {\n",
              "        vertical-align: top;\n",
              "    }\n",
              "\n",
              "    .dataframe thead th {\n",
              "        text-align: right;\n",
              "    }\n",
              "</style>\n",
              "<table border=\"1\" class=\"dataframe\">\n",
              "  <thead>\n",
              "    <tr style=\"text-align: right;\">\n",
              "      <th></th>\n",
              "      <th>user_id</th>\n",
              "    </tr>\n",
              "    <tr>\n",
              "      <th>user_name</th>\n",
              "      <th></th>\n",
              "    </tr>\n",
              "  </thead>\n",
              "  <tbody>\n",
              "    <tr>\n",
              "      <th>$@|\\|TO$|-|,Sethu madhav,Akash Thakur,Burger Planet,Justice ⚖️,indrajyoti d.,Aditya Kumar,E.C.GEORGE</th>\n",
              "      <td>10</td>\n",
              "    </tr>\n",
              "    <tr>\n",
              "      <th>Satheesh Kadiam,Pritom Chakraborty,Vishwa,Simranpreet Singh,Saptarshi,Amazon Customer,D.RAGHUL,Dharmendra kumar</th>\n",
              "      <td>8</td>\n",
              "    </tr>\n",
              "    <tr>\n",
              "      <th>Manav,Adarsh gupta,Sundeep,S.Sayeed Ahmed,jaspreet singh,Khaja moin,Anand,S.ARUMUGAM</th>\n",
              "      <td>8</td>\n",
              "    </tr>\n",
              "    <tr>\n",
              "      <th>Omkar dhale,JD,HEMALATHA,Ajwadh a.,amar singh chouhan,Ravi Siddan,Himanshu Goel,Udaykumar</th>\n",
              "      <td>7</td>\n",
              "    </tr>\n",
              "    <tr>\n",
              "      <th>ArdKn,Nirbhay kumar,Sagar Viswanathan,Asp,Placeholder,BharanI,sonia,Niam</th>\n",
              "      <td>7</td>\n",
              "    </tr>\n",
              "  </tbody>\n",
              "</table>\n",
              "</div>"
            ],
            "text/plain": [
              "                                                    user_id\n",
              "user_name                                                  \n",
              "$@|\\|TO$|-|,Sethu madhav,Akash Thakur,Burger Pl...       10\n",
              "Satheesh Kadiam,Pritom Chakraborty,Vishwa,Simra...        8\n",
              "Manav,Adarsh gupta,Sundeep,S.Sayeed Ahmed,jaspr...        8\n",
              "Omkar dhale,JD,HEMALATHA,Ajwadh a.,amar singh c...        7\n",
              "ArdKn,Nirbhay kumar,Sagar Viswanathan,Asp,Place...        7"
            ]
          },
          "execution_count": 106,
          "metadata": {},
          "output_type": "execute_result"
        }
      ],
      "source": [
        "df7"
      ]
    },
    {
      "cell_type": "markdown",
      "id": "ccfd2d73-b3e5-4914-a271-0e848da68b14",
      "metadata": {
        "id": "ccfd2d73-b3e5-4914-a271-0e848da68b14"
      },
      "source": [
        "**User Analysis:**\n",
        "\n",
        "The top 5 users who have given the most reviews have contributed significantly to the dataset. The highest number of reviews given by a single user is 10."
      ]
    },
    {
      "cell_type": "markdown",
      "id": "e71dca0b-d38f-4294-a0f7-932ff6d74ca6",
      "metadata": {
        "id": "e71dca0b-d38f-4294-a0f7-932ff6d74ca6"
      },
      "source": [
        "_____"
      ]
    },
    {
      "cell_type": "markdown",
      "id": "0454efa6-c1ae-4c97-9290-2afab7179842",
      "metadata": {
        "id": "0454efa6-c1ae-4c97-9290-2afab7179842"
      },
      "source": [
        "**8. Is there a correlation between the length of a review and the rating given?**"
      ]
    },
    {
      "cell_type": "code",
      "execution_count": null,
      "id": "2f9461fe-ebbb-44f7-8232-fb66ed32423d",
      "metadata": {
        "id": "2f9461fe-ebbb-44f7-8232-fb66ed32423d",
        "outputId": "6f0839fc-9579-473d-e97f-d99799a1d53d"
      },
      "outputs": [
        {
          "name": "stdout",
          "output_type": "stream",
          "text": [
            "Pearson Correlation Coefficient: nan\n"
          ]
        }
      ],
      "source": [
        "# Calculate the length of the reviews (e.g., number of characters)\n",
        "df['review_length'] = df['review_content'].apply(len)\n",
        "\n",
        "# Calculate the Pearson correlation coefficient using numpy\n",
        "pearson_corr = np.corrcoef(df['review_length'], df['rating'])[0, 1]\n",
        "\n",
        "# Print the Pearson correlation coefficient\n",
        "print(f\"Pearson Correlation Coefficient: {pearson_corr}\")"
      ]
    },
    {
      "cell_type": "code",
      "execution_count": null,
      "id": "ff6168ac-2649-407a-807f-efcf9f03db56",
      "metadata": {
        "id": "ff6168ac-2649-407a-807f-efcf9f03db56",
        "outputId": "0d8064c1-a3b0-4819-9120-9946e05aee30"
      },
      "outputs": [
        {
          "data": {
            "image/png": "[encoded data removed]",
            "text/plain": [
              "<Figure size 640x480 with 1 Axes>"
            ]
          },
          "metadata": {},
          "output_type": "display_data"
        }
      ],
      "source": [
        "# Plot a scatter plot to visualize the relationship\n",
        "plt.scatter(df['review_length'], df['rating'])\n",
        "plt.xlabel('Review Length')\n",
        "plt.ylabel('Rating')\n",
        "plt.title('Scatter Plot of Review Length vs Rating')\n",
        "plt.show()"
      ]
    },
    {
      "cell_type": "markdown",
      "id": "61379c3a-a033-428a-87a1-930c561826a1",
      "metadata": {
        "id": "61379c3a-a033-428a-87a1-930c561826a1"
      },
      "source": [
        "**Review Length Analysis:**\n",
        "\n",
        "There is no correlation between the length of a review and the rating given by users. The length of a review does not appear to influence the rating."
      ]
    },
    {
      "cell_type": "markdown",
      "id": "edf2805a-0dcf-4cf4-8c8d-4bd6198f0e57",
      "metadata": {
        "id": "edf2805a-0dcf-4cf4-8c8d-4bd6198f0e57"
      },
      "source": [
        "_____"
      ]
    },
    {
      "cell_type": "markdown",
      "id": "34f94f24-60bb-441e-baad-5211dca972b2",
      "metadata": {
        "id": "34f94f24-60bb-441e-baad-5211dca972b2"
      },
      "source": [
        "**9. Does having an image link affect the product rating?**"
      ]
    },
    {
      "cell_type": "code",
      "execution_count": null,
      "id": "f6e68188-e787-469d-b6eb-006cee714f19",
      "metadata": {
        "id": "f6e68188-e787-469d-b6eb-006cee714f19",
        "outputId": "12d9836b-44c4-4b1c-d0e7-77c040e13ae2"
      },
      "outputs": [
        {
          "name": "stdout",
          "output_type": "stream",
          "text": [
            "Average rating for products with image links: 4.096584699453552\n",
            "Average rating for products without image links: nan\n"
          ]
        }
      ],
      "source": [
        "# Function to determine if a product has an image link\n",
        "def has_image_link(link):\n",
        "    if pd.notna(link):\n",
        "        return True\n",
        "    else:\n",
        "        return False\n",
        "\n",
        "# Create a new column 'has_image_link' based on the 'product_link' column\n",
        "df['has_image_link'] = df['product_link'].apply(has_image_link)\n",
        "\n",
        "# Calculate the average ratings for products with and without image links\n",
        "average_rating_with_image = df[df['has_image_link']]['rating'].mean()\n",
        "average_rating_without_image = df[~df['has_image_link']]['rating'].mean()\n",
        "\n",
        "# Print the average ratings\n",
        "print(f\"Average rating for products with image links: {average_rating_with_image}\")\n",
        "print(f\"Average rating for products without image links: {average_rating_without_image}\")"
      ]
    },
    {
      "cell_type": "markdown",
      "id": "275bb2d6-3dde-41aa-893d-dcf019751f07",
      "metadata": {
        "id": "275bb2d6-3dde-41aa-893d-dcf019751f07"
      },
      "source": [
        "**Image Analysis:**\n",
        "\n",
        "Products with image links tend to have an average rating of 4.0965, but it's important to note that no products with no image links were found in the dataset. Therefore, it's inconclusive whether the presence of an image link affects the product rating."
      ]
    },
    {
      "cell_type": "markdown",
      "id": "ea5b9ac5-3225-4ae2-9d87-8d676896411d",
      "metadata": {
        "id": "ea5b9ac5-3225-4ae2-9d87-8d676896411d"
      },
      "source": [
        "____"
      ]
    },
    {
      "cell_type": "markdown",
      "id": "3857cbf3-3d8b-48cf-948a-364b40e3e621",
      "metadata": {
        "id": "3857cbf3-3d8b-48cf-948a-364b40e3e621"
      },
      "source": [
        "**10. Can the length of the product description be correlated to the product's rating?**"
      ]
    },
    {
      "cell_type": "code",
      "execution_count": null,
      "id": "24e51184-9099-4252-bd85-a75ef613193d",
      "metadata": {
        "id": "24e51184-9099-4252-bd85-a75ef613193d",
        "outputId": "37dca0e4-c775-49eb-ed2c-c06f8d182bc7"
      },
      "outputs": [
        {
          "name": "stdout",
          "output_type": "stream",
          "text": [
            "Pearson Correlation Coefficient: nan\n"
          ]
        }
      ],
      "source": [
        "#Calculate the length of the product descriptions\n",
        "df['product_description_length'] = df['about_product'].apply(len)\n",
        "\n",
        "# Calculate the Pearson correlation coefficient using numpy\n",
        "pearson_corr = np.corrcoef(df['product_description_length'], df['rating'])[0, 1]\n",
        "\n",
        "# Print the Pearson correlation coefficient\n",
        "print(f\"Pearson Correlation Coefficient: {pearson_corr}\")"
      ]
    },
    {
      "cell_type": "code",
      "execution_count": null,
      "id": "24baef89-fc44-4d10-968b-edc5377b0474",
      "metadata": {
        "id": "24baef89-fc44-4d10-968b-edc5377b0474",
        "outputId": "56e194c5-5feb-4b92-cb54-cdc7ddb8e0b4"
      },
      "outputs": [
        {
          "data": {
            "image/png": "[encoded data removed]",
            "text/plain": [
              "<Figure size 640x480 with 1 Axes>"
            ]
          },
          "metadata": {},
          "output_type": "display_data"
        }
      ],
      "source": [
        "# Plot a scatter plot to visualize the relationship\n",
        "plt.scatter(df['product_description_length'], df['rating'])\n",
        "plt.xlabel('Product Description Length')\n",
        "plt.ylabel('Rating')\n",
        "plt.title('Scatter Plot of Product Description Length vs Rating')\n",
        "plt.show()"
      ]
    },
    {
      "cell_type": "markdown",
      "id": "ef339615-99ad-4fe1-8855-085dd48160bc",
      "metadata": {
        "id": "ef339615-99ad-4fe1-8855-085dd48160bc"
      },
      "source": [
        "**Product Description Analysis:**\n",
        "\n",
        "The length of the product description does not appear to be correlated with the product's rating. This suggests that the length of the product description may not be a significant factor in determining customer ratings."
      ]
    },
    {
      "cell_type": "markdown",
      "id": "b9563d36-b15e-40bb-8711-b88f8bb9ec0b",
      "metadata": {
        "id": "b9563d36-b15e-40bb-8711-b88f8bb9ec0b"
      },
      "source": [
        "_____"
      ]
    },
    {
      "cell_type": "markdown",
      "id": "47355ceb-93a7-46d4-8d7c-bf5986657334",
      "metadata": {
        "id": "47355ceb-93a7-46d4-8d7c-bf5986657334"
      },
      "source": [
        "**Summary**\n",
        "\n",
        "In summary, the dataset analysis reveals that factors like discount percentage, price, and product description length do not strongly influence product ratings. Positive reviews are predominant, and the category \"OfficeProducts\" tends to have products with higher average ratings. Overall, the dataset provides valuable insights into customer reviews and product ratings, but more specific factors affecting ratings may require further investigation."
      ]
    },
    {
      "cell_type": "code",
      "execution_count": null,
      "id": "4ab19913-135b-41ed-ad41-acde6d03a564",
      "metadata": {
        "id": "4ab19913-135b-41ed-ad41-acde6d03a564"
      },
      "outputs": [],
      "source": []
    }
  ],
  "metadata": {
    "kernelspec": {
      "display_name": "Python 3 (ipykernel)",
      "language": "python",
      "name": "python3"
    },
    "language_info": {
      "codemirror_mode": {
        "name": "ipython",
        "version": 3
      },
      "file_extension": ".py",
      "mimetype": "text/x-python",
      "name": "python",
      "nbconvert_exporter": "python",
      "pygments_lexer": "ipython3",
      "version": "3.11.4"
    },
    "colab": {
      "provenance": []
    }
  },
  "nbformat": 4,
  "nbformat_minor": 5
}